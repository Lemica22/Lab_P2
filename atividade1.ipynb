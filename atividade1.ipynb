{
  "nbformat": 4,
  "nbformat_minor": 0,
  "metadata": {
    "colab": {
      "name": "atividade1.ipynb",
      "provenance": [],
      "authorship_tag": "ABX9TyOeAfqBFmWuxY23XolKyycA",
      "include_colab_link": true
    },
    "kernelspec": {
      "name": "python3",
      "display_name": "Python 3"
    }
  },
  "cells": [
    {
      "cell_type": "markdown",
      "metadata": {
        "id": "view-in-github",
        "colab_type": "text"
      },
      "source": [
        "<a href=\"https://colab.research.google.com/github/Lemica22/Lab_P2/blob/master/atividade1.ipynb\" target=\"_parent\"><img src=\"https://colab.research.google.com/assets/colab-badge.svg\" alt=\"Open In Colab\"/></a>"
      ]
    },
    {
      "cell_type": "markdown",
      "metadata": {
        "id": "Sh7PPV1uPzg1",
        "colab_type": "text"
      },
      "source": [
        "Karolyne camile\n",
        "\n",
        "- Atividade 1"
      ]
    },
    {
      "cell_type": "markdown",
      "metadata": {
        "id": "ThnnxzOHRQr3",
        "colab_type": "text"
      },
      "source": [
        "**1. Faça um programa que leia o tempo (horas, minutos e segundos) que um corredor levou para\n",
        "concluir uma corrida e ao final informe o tempo total em segundos.**\n"
      ]
    },
    {
      "cell_type": "code",
      "metadata": {
        "id": "q5ibEnRsPkrO",
        "colab_type": "code",
        "colab": {
          "base_uri": "https://localhost:8080/",
          "height": 34
        },
        "outputId": "649baf49-997b-4fc3-e28f-4cdb38d0796a"
      },
      "source": [
        "# soma numeros\n",
        "\n",
        "a = 8\n",
        "\n",
        "b = 6 \n",
        "\n",
        "print(a + b)"
      ],
      "execution_count": 4,
      "outputs": [
        {
          "output_type": "stream",
          "text": [
            "14\n"
          ],
          "name": "stdout"
        }
      ]
    },
    {
      "cell_type": "code",
      "metadata": {
        "id": "eJ_kjS3wP4Wy",
        "colab_type": "code",
        "colab": {
          "base_uri": "https://localhost:8080/",
          "height": 34
        },
        "outputId": "fbcd83fb-4dc2-489b-f931-01e4c8666cc8"
      },
      "source": [
        "print(a+b)"
      ],
      "execution_count": 2,
      "outputs": [
        {
          "output_type": "stream",
          "text": [
            "11\n"
          ],
          "name": "stdout"
        }
      ]
    },
    {
      "cell_type": "markdown",
      "metadata": {
        "id": "FIQJ9xQURc1-",
        "colab_type": "text"
      },
      "source": [
        "**2. Josefson deseja fazer compras na China. Ele quer comprar um celular de USD 299,99, uma\n",
        "chaleira de USD 23,87, um gnomo de jardim de USD 66,66 e 6 adesivos de unicórnio de USD\n",
        "1,42 cada um. O frete de tudo isso para a cidade de Rolândia, no Paraná, ficou em USD 12,34.\n",
        "Faça um programa que calcule o valor total da compra em dólares e converta o preço final para\n",
        "reais. Lembre-se que o valor do IOF é de 6,38%. Também calcule o quanto ele vai pagar de IOF\n",
        "(adaptado de https://curso-intro-python.readthedocs.io/exercicios.html).**\n"
      ]
    }
  ]
}